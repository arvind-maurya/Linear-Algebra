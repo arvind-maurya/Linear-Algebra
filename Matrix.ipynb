{
  "nbformat": 4,
  "nbformat_minor": 0,
  "metadata": {
    "colab": {
      "name": "Untitled3.ipynb",
      "provenance": [],
      "authorship_tag": "ABX9TyNUV4u7uDP7y0X9Q6dJ82y2",
      "include_colab_link": true
    },
    "kernelspec": {
      "name": "python3",
      "display_name": "Python 3"
    },
    "language_info": {
      "name": "python"
    }
  },
  "cells": [
    {
      "cell_type": "markdown",
      "metadata": {
        "id": "view-in-github",
        "colab_type": "text"
      },
      "source": [
        "<a href=\"https://colab.research.google.com/github/arvind-maurya/Linear-Algebra/blob/main/Matrix.ipynb\" target=\"_parent\"><img src=\"https://colab.research.google.com/assets/colab-badge.svg\" alt=\"Open In Colab\"/></a>"
      ]
    },
    {
      "cell_type": "markdown",
      "metadata": {
        "id": "3UrgT0NpeS5z"
      },
      "source": [
        "**Matrix:**\n",
        "\n",
        "A matrix is a rectangular array of scalars. If the rectangular array contains\n",
        "m rows and n columns, we call the size of the matrix to be m x n. For\n",
        "example, we represent a matrix A of size $m_{rows}$ x $n_{columns}$ as:\n",
        "\n",
        "\n",
        "\n",
        "$$A = \\begin{bmatrix} a_{11} & a_{12} & \\dots & a_{1n} \\\\ a_{21} & a_{22} & \\dots & a_{2n} \\\\ \\vdots & \\vdots & \\vdots & \\vdots \\\\ a_{m1} & a_{m2} & \\dots & a_{mn} \\end{bmatrix}$$"
      ]
    }
  ]
}