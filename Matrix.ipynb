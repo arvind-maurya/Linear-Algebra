{
  "nbformat": 4,
  "nbformat_minor": 0,
  "metadata": {
    "colab": {
      "name": "Untitled3.ipynb",
      "provenance": [],
      "authorship_tag": "ABX9TyMesfwZIfbwfpC8unvyW4Az",
      "include_colab_link": true
    },
    "kernelspec": {
      "name": "python3",
      "display_name": "Python 3"
    },
    "language_info": {
      "name": "python"
    }
  },
  "cells": [
    {
      "cell_type": "markdown",
      "metadata": {
        "id": "view-in-github",
        "colab_type": "text"
      },
      "source": [
        "<a href=\"https://colab.research.google.com/github/arvind-maurya/Linear-Algebra/blob/main/Matrix.ipynb\" target=\"_parent\"><img src=\"https://colab.research.google.com/assets/colab-badge.svg\" alt=\"Open In Colab\"/></a>"
      ]
    },
    {
      "cell_type": "markdown",
      "metadata": {
        "id": "3UrgT0NpeS5z"
      },
      "source": [
        "**Matrix:**\n",
        "\n",
        "A matrix is a rectangular array of scalars. If the rectangular array contains\n",
        "m rows and n columns, we call the size of the matrix to be m x n. For\n",
        "example, we represent a matrix A of size $m_{rows}$ x $n_{columns}$ as:\n",
        "\n",
        "\n",
        "\n",
        "$$A = \\begin{bmatrix} a_{11} & a_{12} & \\dots & a_{1n} \\\\ a_{21} & a_{22} & \\dots & a_{2n} \\\\ \\vdots & \\vdots & \\vdots & \\vdots \\\\ a_{m1} & a_{m2} & \\dots & a_{mn} \\end{bmatrix}$$"
      ]
    },
    {
      "cell_type": "markdown",
      "metadata": {
        "id": "l3Lc2Z7etwRR"
      },
      "source": [
        "**Special Matrices:**\n",
        "\n",
        "\n",
        "**Column vector:** A matrix with only a single column is called Column Matrix. \n",
        "\n",
        "\n",
        "\n",
        "Example :\n",
        "$$A = \\begin{bmatrix} a_{11} &  \\\\ a_{21} & \\\\ \\vdots & \\\\ a_{m1}\\end{bmatrix}$$\n",
        "\n",
        "Above Matrix is a column matrix of size $m_{rows}$ x $1_{columns}$\n",
        "\n",
        "\n"
      ]
    },
    {
      "cell_type": "markdown",
      "metadata": {
        "id": "wFUY1Ms0w0F_"
      },
      "source": [
        "\n",
        "\n",
        "\n",
        "**Row vector:** A matrix with only a single row is called row matrix. \n",
        "\n",
        "\n",
        "\n",
        "Example :\n",
        "$$A = \\begin{bmatrix} a_{11} & a_{12} & \\dots & a_{1n}\\end{bmatrix}$$\n",
        "\n",
        "Above Matrix is a row matrix of size $1_{rows}$ x $n_{columns}$\n",
        "\n",
        "\n"
      ]
    },
    {
      "cell_type": "markdown",
      "metadata": {
        "id": "uoahc822yZ8o"
      },
      "source": [
        "**Square Matrix:**\n",
        "\n",
        "A square matrix is a matrix which has equal number of row and columns. For\n",
        "example, we represent a square matrix A of size $n_{rows}$ x $n_{columns}$ as:\n",
        "\n",
        "\n",
        "\n",
        "$$A = \\begin{bmatrix} a_{11} & a_{12} & \\dots & a_{1n} \\\\ a_{21} & a_{22} & \\dots & a_{2n} \\\\ \\vdots & \\vdots & \\vdots & \\vdots \\\\ a_{n1} & a_{n2} & \\dots & a_{nn} \\end{bmatrix}$$"
      ]
    }
  ]
}