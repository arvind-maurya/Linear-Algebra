{
  "nbformat": 4,
  "nbformat_minor": 0,
  "metadata": {
    "colab": {
      "name": "Untitled3.ipynb",
      "provenance": [],
      "authorship_tag": "ABX9TyO3vby9jGZwqUhjLg7UIQSS",
      "include_colab_link": true
    },
    "kernelspec": {
      "name": "python3",
      "display_name": "Python 3"
    },
    "language_info": {
      "name": "python"
    }
  },
  "cells": [
    {
      "cell_type": "markdown",
      "metadata": {
        "id": "view-in-github",
        "colab_type": "text"
      },
      "source": [
        "<a href=\"https://colab.research.google.com/github/arvind-maurya/Linear-Algebra/blob/main/Matrix.ipynb\" target=\"_parent\"><img src=\"https://colab.research.google.com/assets/colab-badge.svg\" alt=\"Open In Colab\"/></a>"
      ]
    },
    {
      "cell_type": "markdown",
      "metadata": {
        "id": "3UrgT0NpeS5z"
      },
      "source": [
        "**Matrix:**\n",
        "\n",
        "A matrix is a rectangular array of scalars. If the rectangular array contains\n",
        "m rows and n columns, we call the size of the matrix to be m x n. For\n",
        "example, we represent a matrix A of size $m_{rows}$ x $n_{columns}$ as:\n",
        "\n",
        "\n",
        "\n",
        "$$A = \\begin{bmatrix} a_{11} & a_{12} & \\dots & a_{1n} \\\\ a_{21} & a_{22} & \\dots & a_{2n} \\\\ \\vdots & \\vdots & \\vdots & \\vdots \\\\ a_{m1} & a_{m2} & \\dots & a_{mn} \\end{bmatrix}$$"
      ]
    },
    {
      "cell_type": "markdown",
      "metadata": {
        "id": "l3Lc2Z7etwRR"
      },
      "source": [
        "**Special Matrices:**\n",
        "\n",
        "\n",
        "**Column vector:** A matrix with only a single column is called Column Matrix. \n",
        "\n",
        "\n",
        "\n",
        "Example :\n",
        "$$A = \\begin{bmatrix} a_{11} &  \\\\ a_{21} & \\\\ \\vdots & \\\\ a_{m1}\\end{bmatrix}$$\n",
        "\n",
        "Above Matrix is a column matrix of size $m_{rows}$ x $1_{columns}$\n",
        "\n",
        "\n"
      ]
    },
    {
      "cell_type": "markdown",
      "metadata": {
        "id": "wFUY1Ms0w0F_"
      },
      "source": [
        "\n",
        "\n",
        "\n",
        "**Row vector:** A matrix with only a single row is called row matrix. \n",
        "\n",
        "\n",
        "\n",
        "Example :\n",
        "$$A = \\begin{bmatrix} a_{11} & a_{12} & \\dots & a_{1n}\\end{bmatrix}$$\n",
        "\n",
        "Above Matrix is a row matrix of size $1_{rows}$ x $n_{columns}$\n",
        "\n",
        "\n"
      ]
    },
    {
      "cell_type": "markdown",
      "metadata": {
        "id": "uoahc822yZ8o"
      },
      "source": [
        "**Square Matrix:**\n",
        "\n",
        "A square matrix is a matrix which has equal number of row and columns. For\n",
        "example, we represent a square matrix A of size $n_{rows}$ x $n_{columns}$ as:\n",
        "\n",
        "\n",
        "\n",
        "$$A = \\begin{bmatrix} a_{11} & a_{12} & \\dots & a_{1n} \\\\ a_{21} & a_{22} & \\dots & a_{2n} \\\\ \\vdots & \\vdots & \\vdots & \\vdots \\\\ a_{n1} & a_{n2} & \\dots & a_{nn} \\end{bmatrix}$$"
      ]
    },
    {
      "cell_type": "markdown",
      "metadata": {
        "id": "xvaCjwnm175E"
      },
      "source": [
        "**(Principal) Diagonal of a Square Matrix:**\n",
        "\n",
        "Principle diagonal element are $a_{11} , a_{22} ,a_{nn} $\n",
        "\n",
        "$$A = \\begin{bmatrix} a_{11} & a_{12} & \\dots & a_{1n} \\\\ a_{21} & a_{22} & \\dots & a_{2n} \\\\ \\vdots & \\vdots & \\vdots & \\vdots \\\\ a_{n1} & a_{n2} & \\dots & a_{nn} \\end{bmatrix}$$"
      ]
    },
    {
      "cell_type": "markdown",
      "metadata": {
        "id": "xbavhbUD2kYs"
      },
      "source": [
        "**Diagonal matrix**: A square matrix with all non-diagonal elements to be\n",
        "zero.\n",
        "\n",
        "\n",
        "\n",
        "$$A = \\begin{bmatrix} a_{11} & 0 & \\dots & 0 \\\\ 0 & a_{22} & \\dots & 0 \\\\ \\vdots & \\vdots & \\vdots & \\vdots \\\\ 0 & 0 & \\dots & a_{nn} \\end{bmatrix}$$"
      ]
    },
    {
      "cell_type": "markdown",
      "metadata": {
        "id": "ruHcBhrA3H-X"
      },
      "source": [
        "**Identity matrix**: A diagonal matrix is a square matrix where each diagonal element is one.\n",
        "\n",
        "\n",
        "\n",
        "$$A = \\begin{bmatrix} 1 & 0 & \\dots & 0 \\\\ 0 & 1 & \\dots & 0 \\\\ \\vdots & \\vdots & \\vdots & \\vdots \\\\ 0 & 0 & \\dots & 1 \\end{bmatrix}$$\n",
        "\n",
        "Identity matrix of size n \u0002n is often denoted by the notation $I_{n \\times n}$ or $I_{n}$."
      ]
    },
    {
      "cell_type": "markdown",
      "metadata": {
        "id": "E21Mxz7-322u"
      },
      "source": [
        "**Zero matrix:** A matrix where all elements are zeros. It can be a square or rectangle matrix\n",
        "\n",
        "\n",
        "\n",
        "$$A = \\begin{bmatrix} 0 & 0 & \\dots & 0 \\\\ 0 & 0 & \\dots & 0 \\\\ \\vdots & \\vdots & \\vdots & \\vdots \\\\ 0 & 0 & \\dots & 0 \\end{bmatrix}$$\n",
        "\n",
        "Zero matrix of size m \u0002 n is often denoted by the notation $0_{m \\times n}$"
      ]
    },
    {
      "cell_type": "markdown",
      "metadata": {
        "id": "g4eLy6wa4jZM"
      },
      "source": [
        "**Symmetric matrix:** A square matrix where $ij^{th}$ element is the same as\n",
        "$ji^{th}$  element.\n",
        "\n",
        "\n",
        "\n",
        "$$A = \\begin{bmatrix} a_{11} & a_{12} & \\dots & a_{1n} \\\\ a_{21} & a_{22} & \\dots & a_{2n} \\\\ \\vdots & \\vdots & \\vdots & \\vdots \\\\ a_{n1} & a_{n2} & \\dots & a_{nn} \\end{bmatrix}$$\n",
        "\n",
        "\n",
        "Here, $a_{12} == a_{21}$ , $a_{1n} == a_{n1}$ , $a_{2n} == a_{n2}$ \n",
        "\n",
        "Example:\n",
        "$$A = \\begin{bmatrix} 5 & 6 & -7 & 9 \\\\ 6 & -10 & 6 & 15 \\\\ -7 & 6 & 7 & 12 \\\\ 9 & 15 & 12 & 8 \\end{bmatrix}$$\n"
      ]
    },
    {
      "cell_type": "code",
      "metadata": {
        "id": "UwT5DNCz86df"
      },
      "source": [
        ""
      ],
      "execution_count": null,
      "outputs": []
    },
    {
      "cell_type": "markdown",
      "metadata": {
        "id": "ekxSoTaW7CM1"
      },
      "source": [
        "**Operations on Matrices**\n",
        "\n"
      ]
    },
    {
      "cell_type": "markdown",
      "metadata": {
        "id": "cAsRMHlm7PgS"
      },
      "source": [
        "Consider a $m \\times n$ matrix A given by:\n",
        "\n",
        "\n",
        "$$A = \\begin{bmatrix} a_{11} & a_{12} & \\dots & a_{1n} \\\\ a_{21} & a_{22} & \\dots & a_{2n} \\\\ \\vdots & \\vdots & \\vdots & \\vdots \\\\ a_{m1} & a_{m2} & \\dots & a_{mn} \\end{bmatrix}$$\n",
        "\n",
        "Then the transpose of Matrix A is denoted by $A^T$ is obtained by making the rows of A to be column of $A^T$. Hence we have :\n",
        "\n",
        "$$A^T = \\begin{bmatrix} a_{11} & a_{21} & \\dots & a_{m1} \\\\ a_{12} & a_{22} & \\dots & a_{m2} \\\\ \\vdots & \\vdots & \\vdots & \\vdots \\\\ a_{1n} & a_{2n} & \\dots & a_{mn} \\end{bmatrix}$$\n",
        "\n",
        "The size of $A^T$ is $n \\times m$."
      ]
    }
  ]
}